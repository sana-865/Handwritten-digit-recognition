{
 "cells": [
  {
   "cell_type": "code",
   "execution_count": 1,
   "id": "8abb7db6",
   "metadata": {},
   "outputs": [],
   "source": [
    "import numpy as np\n",
    "import pandas as pd"
   ]
  },
  {
   "cell_type": "code",
   "execution_count": 2,
   "id": "a8e53108",
   "metadata": {},
   "outputs": [],
   "source": [
    "from tensorflow.keras import datasets"
   ]
  },
  {
   "cell_type": "code",
   "execution_count": 18,
   "id": "3c39e998",
   "metadata": {},
   "outputs": [],
   "source": [
    "from tensorflow import keras"
   ]
  },
  {
   "cell_type": "code",
   "execution_count": 3,
   "id": "66159b5e",
   "metadata": {},
   "outputs": [
    {
     "name": "stdout",
     "output_type": "stream",
     "text": [
      "Downloading data from https://storage.googleapis.com/tensorflow/tf-keras-datasets/mnist.npz\n",
      "11490434/11490434 [==============================] - 1s 0us/step\n"
     ]
    }
   ],
   "source": [
    "(x_train, y_train), (x_test, y_test) = datasets.mnist.load_data()"
   ]
  },
  {
   "cell_type": "code",
   "execution_count": 5,
   "id": "97541f4d",
   "metadata": {},
   "outputs": [
    {
     "data": {
      "text/plain": [
       "(60000, 28, 28)"
      ]
     },
     "execution_count": 5,
     "metadata": {},
     "output_type": "execute_result"
    }
   ],
   "source": [
    "x_train.shape"
   ]
  },
  {
   "cell_type": "code",
   "execution_count": 6,
   "id": "ba81a741",
   "metadata": {},
   "outputs": [
    {
     "data": {
      "text/plain": [
       "(10000, 28, 28)"
      ]
     },
     "execution_count": 6,
     "metadata": {},
     "output_type": "execute_result"
    }
   ],
   "source": [
    "x_test.shape"
   ]
  },
  {
   "cell_type": "code",
   "execution_count": 8,
   "id": "cf189f7b",
   "metadata": {},
   "outputs": [],
   "source": [
    "width, height = 28, 28\n",
    "input_shape = (width, height, 1)"
   ]
  },
  {
   "cell_type": "code",
   "execution_count": 9,
   "id": "67a49cec",
   "metadata": {},
   "outputs": [
    {
     "data": {
      "text/plain": [
       "(28, 28, 1)"
      ]
     },
     "execution_count": 9,
     "metadata": {},
     "output_type": "execute_result"
    }
   ],
   "source": [
    "input_shape"
   ]
  },
  {
   "cell_type": "code",
   "execution_count": 10,
   "id": "7bdb5435",
   "metadata": {},
   "outputs": [],
   "source": [
    "x_train = x_train.reshape(x_train.shape[0], height, width, 1)\n",
    "x_test = x_test.reshape(x_test.shape[0], height, width, 1)"
   ]
  },
  {
   "cell_type": "code",
   "execution_count": 11,
   "id": "766740af",
   "metadata": {},
   "outputs": [
    {
     "data": {
      "text/plain": [
       "(60000, 28, 28, 1)"
      ]
     },
     "execution_count": 11,
     "metadata": {},
     "output_type": "execute_result"
    }
   ],
   "source": [
    "x_train.shape"
   ]
  },
  {
   "cell_type": "code",
   "execution_count": 12,
   "id": "88ac9c92",
   "metadata": {},
   "outputs": [
    {
     "data": {
      "text/plain": [
       "(60000,)"
      ]
     },
     "execution_count": 12,
     "metadata": {},
     "output_type": "execute_result"
    }
   ],
   "source": [
    "y_train.shape"
   ]
  },
  {
   "cell_type": "code",
   "execution_count": 13,
   "id": "d8beabe8",
   "metadata": {},
   "outputs": [],
   "source": [
    "from sklearn.model_selection import train_test_split\n",
    "x_train, x_val, y_train, y_val = train_test_split(x_train, y_train, test_size=0.1)"
   ]
  },
  {
   "cell_type": "code",
   "execution_count": 14,
   "id": "faebd914",
   "metadata": {},
   "outputs": [
    {
     "data": {
      "text/plain": [
       "6000"
      ]
     },
     "execution_count": 14,
     "metadata": {},
     "output_type": "execute_result"
    }
   ],
   "source": [
    "len(x_val)"
   ]
  },
  {
   "cell_type": "code",
   "execution_count": 15,
   "id": "91104230",
   "metadata": {},
   "outputs": [],
   "source": [
    "x_train = (x_train - x_train.mean())/x_train.std()\n",
    "x_test = (x_test - x_test.mean())/x_test.std()\n",
    "x_val = (x_val - x_val.mean())/x_val.std()"
   ]
  },
  {
   "cell_type": "code",
   "execution_count": 16,
   "id": "27557545",
   "metadata": {},
   "outputs": [
    {
     "data": {
      "text/plain": [
       "array([[[[-0.42409178],\n",
       "         [-0.42409178],\n",
       "         [-0.42409178],\n",
       "         ...,\n",
       "         [-0.42409178],\n",
       "         [-0.42409178],\n",
       "         [-0.42409178]],\n",
       "\n",
       "        [[-0.42409178],\n",
       "         [-0.42409178],\n",
       "         [-0.42409178],\n",
       "         ...,\n",
       "         [-0.42409178],\n",
       "         [-0.42409178],\n",
       "         [-0.42409178]],\n",
       "\n",
       "        [[-0.42409178],\n",
       "         [-0.42409178],\n",
       "         [-0.42409178],\n",
       "         ...,\n",
       "         [-0.42409178],\n",
       "         [-0.42409178],\n",
       "         [-0.42409178]],\n",
       "\n",
       "        ...,\n",
       "\n",
       "        [[-0.42409178],\n",
       "         [-0.42409178],\n",
       "         [-0.42409178],\n",
       "         ...,\n",
       "         [-0.42409178],\n",
       "         [-0.42409178],\n",
       "         [-0.42409178]],\n",
       "\n",
       "        [[-0.42409178],\n",
       "         [-0.42409178],\n",
       "         [-0.42409178],\n",
       "         ...,\n",
       "         [-0.42409178],\n",
       "         [-0.42409178],\n",
       "         [-0.42409178]],\n",
       "\n",
       "        [[-0.42409178],\n",
       "         [-0.42409178],\n",
       "         [-0.42409178],\n",
       "         ...,\n",
       "         [-0.42409178],\n",
       "         [-0.42409178],\n",
       "         [-0.42409178]]],\n",
       "\n",
       "\n",
       "       [[[-0.42409178],\n",
       "         [-0.42409178],\n",
       "         [-0.42409178],\n",
       "         ...,\n",
       "         [-0.42409178],\n",
       "         [-0.42409178],\n",
       "         [-0.42409178]],\n",
       "\n",
       "        [[-0.42409178],\n",
       "         [-0.42409178],\n",
       "         [-0.42409178],\n",
       "         ...,\n",
       "         [-0.42409178],\n",
       "         [-0.42409178],\n",
       "         [-0.42409178]],\n",
       "\n",
       "        [[-0.42409178],\n",
       "         [-0.42409178],\n",
       "         [-0.42409178],\n",
       "         ...,\n",
       "         [-0.42409178],\n",
       "         [-0.42409178],\n",
       "         [-0.42409178]],\n",
       "\n",
       "        ...,\n",
       "\n",
       "        [[-0.42409178],\n",
       "         [-0.42409178],\n",
       "         [-0.42409178],\n",
       "         ...,\n",
       "         [-0.42409178],\n",
       "         [-0.42409178],\n",
       "         [-0.42409178]],\n",
       "\n",
       "        [[-0.42409178],\n",
       "         [-0.42409178],\n",
       "         [-0.42409178],\n",
       "         ...,\n",
       "         [-0.42409178],\n",
       "         [-0.42409178],\n",
       "         [-0.42409178]],\n",
       "\n",
       "        [[-0.42409178],\n",
       "         [-0.42409178],\n",
       "         [-0.42409178],\n",
       "         ...,\n",
       "         [-0.42409178],\n",
       "         [-0.42409178],\n",
       "         [-0.42409178]]],\n",
       "\n",
       "\n",
       "       [[[-0.42409178],\n",
       "         [-0.42409178],\n",
       "         [-0.42409178],\n",
       "         ...,\n",
       "         [-0.42409178],\n",
       "         [-0.42409178],\n",
       "         [-0.42409178]],\n",
       "\n",
       "        [[-0.42409178],\n",
       "         [-0.42409178],\n",
       "         [-0.42409178],\n",
       "         ...,\n",
       "         [-0.42409178],\n",
       "         [-0.42409178],\n",
       "         [-0.42409178]],\n",
       "\n",
       "        [[-0.42409178],\n",
       "         [-0.42409178],\n",
       "         [-0.42409178],\n",
       "         ...,\n",
       "         [-0.42409178],\n",
       "         [-0.42409178],\n",
       "         [-0.42409178]],\n",
       "\n",
       "        ...,\n",
       "\n",
       "        [[-0.42409178],\n",
       "         [-0.42409178],\n",
       "         [-0.42409178],\n",
       "         ...,\n",
       "         [-0.42409178],\n",
       "         [-0.42409178],\n",
       "         [-0.42409178]],\n",
       "\n",
       "        [[-0.42409178],\n",
       "         [-0.42409178],\n",
       "         [-0.42409178],\n",
       "         ...,\n",
       "         [-0.42409178],\n",
       "         [-0.42409178],\n",
       "         [-0.42409178]],\n",
       "\n",
       "        [[-0.42409178],\n",
       "         [-0.42409178],\n",
       "         [-0.42409178],\n",
       "         ...,\n",
       "         [-0.42409178],\n",
       "         [-0.42409178],\n",
       "         [-0.42409178]]],\n",
       "\n",
       "\n",
       "       ...,\n",
       "\n",
       "\n",
       "       [[[-0.42409178],\n",
       "         [-0.42409178],\n",
       "         [-0.42409178],\n",
       "         ...,\n",
       "         [-0.42409178],\n",
       "         [-0.42409178],\n",
       "         [-0.42409178]],\n",
       "\n",
       "        [[-0.42409178],\n",
       "         [-0.42409178],\n",
       "         [-0.42409178],\n",
       "         ...,\n",
       "         [-0.42409178],\n",
       "         [-0.42409178],\n",
       "         [-0.42409178]],\n",
       "\n",
       "        [[-0.42409178],\n",
       "         [-0.42409178],\n",
       "         [-0.42409178],\n",
       "         ...,\n",
       "         [-0.42409178],\n",
       "         [-0.42409178],\n",
       "         [-0.42409178]],\n",
       "\n",
       "        ...,\n",
       "\n",
       "        [[-0.42409178],\n",
       "         [-0.42409178],\n",
       "         [-0.42409178],\n",
       "         ...,\n",
       "         [-0.42409178],\n",
       "         [-0.42409178],\n",
       "         [-0.42409178]],\n",
       "\n",
       "        [[-0.42409178],\n",
       "         [-0.42409178],\n",
       "         [-0.42409178],\n",
       "         ...,\n",
       "         [-0.42409178],\n",
       "         [-0.42409178],\n",
       "         [-0.42409178]],\n",
       "\n",
       "        [[-0.42409178],\n",
       "         [-0.42409178],\n",
       "         [-0.42409178],\n",
       "         ...,\n",
       "         [-0.42409178],\n",
       "         [-0.42409178],\n",
       "         [-0.42409178]]],\n",
       "\n",
       "\n",
       "       [[[-0.42409178],\n",
       "         [-0.42409178],\n",
       "         [-0.42409178],\n",
       "         ...,\n",
       "         [-0.42409178],\n",
       "         [-0.42409178],\n",
       "         [-0.42409178]],\n",
       "\n",
       "        [[-0.42409178],\n",
       "         [-0.42409178],\n",
       "         [-0.42409178],\n",
       "         ...,\n",
       "         [-0.42409178],\n",
       "         [-0.42409178],\n",
       "         [-0.42409178]],\n",
       "\n",
       "        [[-0.42409178],\n",
       "         [-0.42409178],\n",
       "         [-0.42409178],\n",
       "         ...,\n",
       "         [-0.42409178],\n",
       "         [-0.42409178],\n",
       "         [-0.42409178]],\n",
       "\n",
       "        ...,\n",
       "\n",
       "        [[-0.42409178],\n",
       "         [-0.42409178],\n",
       "         [-0.42409178],\n",
       "         ...,\n",
       "         [-0.42409178],\n",
       "         [-0.42409178],\n",
       "         [-0.42409178]],\n",
       "\n",
       "        [[-0.42409178],\n",
       "         [-0.42409178],\n",
       "         [-0.42409178],\n",
       "         ...,\n",
       "         [-0.42409178],\n",
       "         [-0.42409178],\n",
       "         [-0.42409178]],\n",
       "\n",
       "        [[-0.42409178],\n",
       "         [-0.42409178],\n",
       "         [-0.42409178],\n",
       "         ...,\n",
       "         [-0.42409178],\n",
       "         [-0.42409178],\n",
       "         [-0.42409178]]],\n",
       "\n",
       "\n",
       "       [[[-0.42409178],\n",
       "         [-0.42409178],\n",
       "         [-0.42409178],\n",
       "         ...,\n",
       "         [-0.42409178],\n",
       "         [-0.42409178],\n",
       "         [-0.42409178]],\n",
       "\n",
       "        [[-0.42409178],\n",
       "         [-0.42409178],\n",
       "         [-0.42409178],\n",
       "         ...,\n",
       "         [-0.42409178],\n",
       "         [-0.42409178],\n",
       "         [-0.42409178]],\n",
       "\n",
       "        [[-0.42409178],\n",
       "         [-0.42409178],\n",
       "         [-0.42409178],\n",
       "         ...,\n",
       "         [-0.42409178],\n",
       "         [-0.42409178],\n",
       "         [-0.42409178]],\n",
       "\n",
       "        ...,\n",
       "\n",
       "        [[-0.42409178],\n",
       "         [-0.42409178],\n",
       "         [-0.42409178],\n",
       "         ...,\n",
       "         [-0.42409178],\n",
       "         [-0.42409178],\n",
       "         [-0.42409178]],\n",
       "\n",
       "        [[-0.42409178],\n",
       "         [-0.42409178],\n",
       "         [-0.42409178],\n",
       "         ...,\n",
       "         [-0.42409178],\n",
       "         [-0.42409178],\n",
       "         [-0.42409178]],\n",
       "\n",
       "        [[-0.42409178],\n",
       "         [-0.42409178],\n",
       "         [-0.42409178],\n",
       "         ...,\n",
       "         [-0.42409178],\n",
       "         [-0.42409178],\n",
       "         [-0.42409178]]]])"
      ]
     },
     "execution_count": 16,
     "metadata": {},
     "output_type": "execute_result"
    }
   ],
   "source": [
    "x_train"
   ]
  },
  {
   "cell_type": "code",
   "execution_count": 17,
   "id": "2577a9af",
   "metadata": {},
   "outputs": [
    {
     "data": {
      "text/plain": [
       "array([0, 9, 8, ..., 4, 1, 8], dtype=uint8)"
      ]
     },
     "execution_count": 17,
     "metadata": {},
     "output_type": "execute_result"
    }
   ],
   "source": [
    "y_train"
   ]
  },
  {
   "cell_type": "code",
   "execution_count": 20,
   "id": "7403582f",
   "metadata": {},
   "outputs": [],
   "source": [
    "num_labels = 10\n",
    "\n",
    "y_train = keras.utils.to_categorical(y_train)"
   ]
  },
  {
   "cell_type": "code",
   "execution_count": 21,
   "id": "20416d4e",
   "metadata": {},
   "outputs": [
    {
     "data": {
      "text/plain": [
       "array([[1., 0., 0., ..., 0., 0., 0.],\n",
       "       [0., 0., 0., ..., 0., 0., 1.],\n",
       "       [0., 0., 0., ..., 0., 1., 0.],\n",
       "       ...,\n",
       "       [0., 0., 0., ..., 0., 0., 0.],\n",
       "       [0., 1., 0., ..., 0., 0., 0.],\n",
       "       [0., 0., 0., ..., 0., 1., 0.]], dtype=float32)"
      ]
     },
     "execution_count": 21,
     "metadata": {},
     "output_type": "execute_result"
    }
   ],
   "source": [
    "y_train"
   ]
  },
  {
   "cell_type": "code",
   "execution_count": 22,
   "id": "2d98a2e2",
   "metadata": {},
   "outputs": [],
   "source": [
    "y_test = keras.utils.to_categorical(y_test)\n",
    "y_val = keras.utils.to_categorical(y_val)"
   ]
  },
  {
   "cell_type": "markdown",
   "id": "fe4eb619",
   "metadata": {},
   "source": [
    "MODEL"
   ]
  },
  {
   "cell_type": "code",
   "execution_count": 32,
   "id": "14c75389",
   "metadata": {},
   "outputs": [],
   "source": [
    "from tensorflow.keras.models import Sequential\n",
    "from tensorflow.keras.layers import Dense, Dropout, Flatten, Input, Conv2D, MaxPooling2D, AveragePooling2D"
   ]
  },
  {
   "cell_type": "code",
   "execution_count": 34,
   "id": "7b661be1",
   "metadata": {},
   "outputs": [],
   "source": [
    "model = Sequential()\n",
    "model.add(Conv2D(6, kernel_size = (5, 5), strides = (1,1), activation = 'tanh', input_shape = (28, 28, 1)))\n",
    "model.add(AveragePooling2D(pool_size = (2, 2), strides = (1,1)))    \n",
    "model.add(Conv2D(16, kernel_size = (5, 5), strides = (1,1), activation = 'tanh'))          \n",
    "model.add(AveragePooling2D(pool_size = (2, 2), strides = (2,2))) \n",
    "model.add(Conv2D(120, kernel_size = (5, 5), strides = (1,1), activation = 'tanh'))   \n",
    "          \n",
    "model.add(Flatten())\n",
    "model.add(Dense(84, activation = 'tanh'))\n",
    "model.add(Dense(num_labels, activation = 'softmax'))"
   ]
  },
  {
   "cell_type": "code",
   "execution_count": 35,
   "id": "ea7c1488",
   "metadata": {},
   "outputs": [
    {
     "name": "stdout",
     "output_type": "stream",
     "text": [
      "Model: \"sequential_3\"\n",
      "_________________________________________________________________\n",
      " Layer (type)                Output Shape              Param #   \n",
      "=================================================================\n",
      " conv2d_4 (Conv2D)           (None, 24, 24, 6)         156       \n",
      "                                                                 \n",
      " average_pooling2d_2 (Averag  (None, 23, 23, 6)        0         \n",
      " ePooling2D)                                                     \n",
      "                                                                 \n",
      " conv2d_5 (Conv2D)           (None, 19, 19, 16)        2416      \n",
      "                                                                 \n",
      " average_pooling2d_3 (Averag  (None, 9, 9, 16)         0         \n",
      " ePooling2D)                                                     \n",
      "                                                                 \n",
      " conv2d_6 (Conv2D)           (None, 5, 5, 120)         48120     \n",
      "                                                                 \n",
      " flatten_1 (Flatten)         (None, 3000)              0         \n",
      "                                                                 \n",
      " dense_1 (Dense)             (None, 84)                252084    \n",
      "                                                                 \n",
      " dense_2 (Dense)             (None, 10)                850       \n",
      "                                                                 \n",
      "=================================================================\n",
      "Total params: 303,626\n",
      "Trainable params: 303,626\n",
      "Non-trainable params: 0\n",
      "_________________________________________________________________\n"
     ]
    }
   ],
   "source": [
    "model.summary()"
   ]
  },
  {
   "cell_type": "code",
   "execution_count": 36,
   "id": "e43ba8d5",
   "metadata": {},
   "outputs": [],
   "source": [
    "model.compile(loss = keras.losses.categorical_crossentropy, optimizer = 'adam', metrics = ['accuracy'])"
   ]
  },
  {
   "cell_type": "code",
   "execution_count": 38,
   "id": "18799a9d",
   "metadata": {},
   "outputs": [
    {
     "name": "stdout",
     "output_type": "stream",
     "text": [
      "Epoch 1/20\n",
      "1688/1688 [==============================] - 23s 12ms/step - loss: 0.2178 - accuracy: 0.9357 - val_loss: 0.1398 - val_accuracy: 0.9563\n",
      "Epoch 2/20\n",
      "1688/1688 [==============================] - 26s 16ms/step - loss: 0.1017 - accuracy: 0.9706 - val_loss: 0.0844 - val_accuracy: 0.9737\n",
      "Epoch 3/20\n",
      "1688/1688 [==============================] - 23s 13ms/step - loss: 0.0776 - accuracy: 0.9763 - val_loss: 0.0701 - val_accuracy: 0.9773\n",
      "Epoch 4/20\n",
      "1688/1688 [==============================] - 27s 16ms/step - loss: 0.0727 - accuracy: 0.9783 - val_loss: 0.0626 - val_accuracy: 0.9820\n",
      "Epoch 5/20\n",
      "1688/1688 [==============================] - 22s 13ms/step - loss: 0.0652 - accuracy: 0.9807 - val_loss: 0.0831 - val_accuracy: 0.9738\n",
      "Epoch 6/20\n",
      "1688/1688 [==============================] - 27s 16ms/step - loss: 0.0589 - accuracy: 0.9821 - val_loss: 0.0602 - val_accuracy: 0.9813\n",
      "Epoch 7/20\n",
      "1688/1688 [==============================] - 24s 14ms/step - loss: 0.0546 - accuracy: 0.9836 - val_loss: 0.0602 - val_accuracy: 0.9793\n",
      "Epoch 8/20\n",
      "1688/1688 [==============================] - 26s 16ms/step - loss: 0.0534 - accuracy: 0.9837 - val_loss: 0.0585 - val_accuracy: 0.9827\n",
      "Epoch 9/20\n",
      "1688/1688 [==============================] - 22s 13ms/step - loss: 0.0541 - accuracy: 0.9836 - val_loss: 0.0692 - val_accuracy: 0.9773\n",
      "Epoch 10/20\n",
      "1688/1688 [==============================] - 23s 14ms/step - loss: 0.0495 - accuracy: 0.9849 - val_loss: 0.0656 - val_accuracy: 0.9820\n",
      "Epoch 11/20\n",
      "1688/1688 [==============================] - 23s 14ms/step - loss: 0.0477 - accuracy: 0.9854 - val_loss: 0.0639 - val_accuracy: 0.9800\n",
      "Epoch 12/20\n",
      "1688/1688 [==============================] - 26s 15ms/step - loss: 0.0467 - accuracy: 0.9859 - val_loss: 0.0513 - val_accuracy: 0.9823\n",
      "Epoch 13/20\n",
      "1688/1688 [==============================] - 23s 14ms/step - loss: 0.0471 - accuracy: 0.9854 - val_loss: 0.0523 - val_accuracy: 0.9832\n",
      "Epoch 14/20\n",
      "1688/1688 [==============================] - 26s 16ms/step - loss: 0.0432 - accuracy: 0.9864 - val_loss: 0.0540 - val_accuracy: 0.9857\n",
      "Epoch 15/20\n",
      "1688/1688 [==============================] - 23s 14ms/step - loss: 0.0441 - accuracy: 0.9866 - val_loss: 0.0480 - val_accuracy: 0.9853\n",
      "Epoch 16/20\n",
      "1688/1688 [==============================] - 25s 15ms/step - loss: 0.0416 - accuracy: 0.9872 - val_loss: 0.0572 - val_accuracy: 0.9838\n",
      "Epoch 17/20\n",
      "1688/1688 [==============================] - 24s 14ms/step - loss: 0.0387 - accuracy: 0.9880 - val_loss: 0.0556 - val_accuracy: 0.9835\n",
      "Epoch 18/20\n",
      "1688/1688 [==============================] - 24s 14ms/step - loss: 0.0408 - accuracy: 0.9872 - val_loss: 0.0622 - val_accuracy: 0.9822\n",
      "Epoch 19/20\n",
      "1688/1688 [==============================] - 26s 15ms/step - loss: 0.0416 - accuracy: 0.9865 - val_loss: 0.0488 - val_accuracy: 0.9868\n",
      "Epoch 20/20\n",
      "1688/1688 [==============================] - 23s 14ms/step - loss: 0.0366 - accuracy: 0.9881 - val_loss: 0.0536 - val_accuracy: 0.9822\n"
     ]
    }
   ],
   "source": [
    "history = model.fit(x_train, y_train, batch_size = 32, epochs = 20, verbose = 1, validation_data = (x_val, y_val))"
   ]
  },
  {
   "cell_type": "code",
   "execution_count": 39,
   "id": "2990a6ac",
   "metadata": {},
   "outputs": [
    {
     "name": "stdout",
     "output_type": "stream",
     "text": [
      "313/313 [==============================] - 1s 4ms/step - loss: 0.0453 - accuracy: 0.9866\n"
     ]
    }
   ],
   "source": [
    "score = model.evaluate(x_test, y_test, verbose = 1)"
   ]
  },
  {
   "cell_type": "code",
   "execution_count": 40,
   "id": "4f7989a4",
   "metadata": {},
   "outputs": [
    {
     "data": {
      "text/plain": [
       "[0.04531022161245346, 0.9865999817848206]"
      ]
     },
     "execution_count": 40,
     "metadata": {},
     "output_type": "execute_result"
    }
   ],
   "source": [
    "score"
   ]
  }
 ],
 "metadata": {
  "kernelspec": {
   "display_name": "brain",
   "language": "python",
   "name": "brain"
  },
  "language_info": {
   "codemirror_mode": {
    "name": "ipython",
    "version": 3
   },
   "file_extension": ".py",
   "mimetype": "text/x-python",
   "name": "python",
   "nbconvert_exporter": "python",
   "pygments_lexer": "ipython3",
   "version": "3.9.16"
  }
 },
 "nbformat": 4,
 "nbformat_minor": 5
}
